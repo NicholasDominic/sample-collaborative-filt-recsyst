{
 "cells": [
  {
   "cell_type": "markdown",
   "id": "bd132d8c-5989-4cb0-bdcd-ff223208c2ae",
   "metadata": {},
   "source": [
    "### Item-based Collaborative Filtering for Product Recommendation"
   ]
  },
  {
   "cell_type": "markdown",
   "id": "c19ca2cb-a3cd-4d79-8677-47d05052d7ad",
   "metadata": {},
   "source": [
    "Developed by **NICHOLAS DOMINIC** (2024)\n",
    "- Email: nicholas.dominic@binus.ac.id / dominicnick4@gmail.com\n",
    "- Portfolio: https://linktr.ee/ndominic"
   ]
  },
  {
   "cell_type": "code",
   "execution_count": 1,
   "id": "e3980b7b-4eb8-4680-9d78-e7a03aeecce1",
   "metadata": {},
   "outputs": [],
   "source": [
    "import numpy as np\n",
    "from pandas import read_csv as rcsv, merge, pivot_table, DataFrame as df\n",
    "from scipy.spatial.distance import pdist, squareform\n",
    "from warnings import filterwarnings as fw; fw(\"ignore\")\n",
    "from sklearn.metrics.pairwise import cosine_similarity"
   ]
  },
  {
   "cell_type": "markdown",
   "id": "6fc5f850-b461-4c23-ac43-500e1dc84baa",
   "metadata": {},
   "source": [
    "### Load Dataset"
   ]
  },
  {
   "cell_type": "code",
   "execution_count": 2,
   "id": "69094651-d21b-4507-8c3a-18a1d3611d7d",
   "metadata": {},
   "outputs": [
    {
     "data": {
      "text/html": [
       "<div>\n",
       "<style scoped>\n",
       "    .dataframe tbody tr th:only-of-type {\n",
       "        vertical-align: middle;\n",
       "    }\n",
       "\n",
       "    .dataframe tbody tr th {\n",
       "        vertical-align: top;\n",
       "    }\n",
       "\n",
       "    .dataframe thead th {\n",
       "        text-align: right;\n",
       "    }\n",
       "</style>\n",
       "<table border=\"1\" class=\"dataframe\">\n",
       "  <thead>\n",
       "    <tr style=\"text-align: right;\">\n",
       "      <th></th>\n",
       "      <th>customer_id</th>\n",
       "      <th>product_id</th>\n",
       "      <th>purchase_date</th>\n",
       "    </tr>\n",
       "  </thead>\n",
       "  <tbody>\n",
       "    <tr>\n",
       "      <th>0</th>\n",
       "      <td>1</td>\n",
       "      <td>101</td>\n",
       "      <td>2023-01-01</td>\n",
       "    </tr>\n",
       "    <tr>\n",
       "      <th>1</th>\n",
       "      <td>1</td>\n",
       "      <td>105</td>\n",
       "      <td>2023-01-05</td>\n",
       "    </tr>\n",
       "    <tr>\n",
       "      <th>2</th>\n",
       "      <td>2</td>\n",
       "      <td>102</td>\n",
       "      <td>2023-01-02</td>\n",
       "    </tr>\n",
       "    <tr>\n",
       "      <th>3</th>\n",
       "      <td>3</td>\n",
       "      <td>103</td>\n",
       "      <td>2023-01-03</td>\n",
       "    </tr>\n",
       "    <tr>\n",
       "      <th>4</th>\n",
       "      <td>4</td>\n",
       "      <td>104</td>\n",
       "      <td>2023-01-04</td>\n",
       "    </tr>\n",
       "    <tr>\n",
       "      <th>5</th>\n",
       "      <td>5</td>\n",
       "      <td>101</td>\n",
       "      <td>2023-01-05</td>\n",
       "    </tr>\n",
       "    <tr>\n",
       "      <th>6</th>\n",
       "      <td>3</td>\n",
       "      <td>102</td>\n",
       "      <td>2023-01-09</td>\n",
       "    </tr>\n",
       "    <tr>\n",
       "      <th>7</th>\n",
       "      <td>2</td>\n",
       "      <td>104</td>\n",
       "      <td>2023-01-03</td>\n",
       "    </tr>\n",
       "  </tbody>\n",
       "</table>\n",
       "</div>"
      ],
      "text/plain": [
       "   customer_id  product_id purchase_date\n",
       "0            1         101    2023-01-01\n",
       "1            1         105    2023-01-05\n",
       "2            2         102    2023-01-02\n",
       "3            3         103    2023-01-03\n",
       "4            4         104    2023-01-04\n",
       "5            5         101    2023-01-05\n",
       "6            3         102    2023-01-09\n",
       "7            2         104    2023-01-03"
      ]
     },
     "execution_count": 2,
     "metadata": {},
     "output_type": "execute_result"
    }
   ],
   "source": [
    "ph = rcsv(\"dataset/purchase_history.csv\", delimiter=\";\")\n",
    "ph"
   ]
  },
  {
   "cell_type": "code",
   "execution_count": 3,
   "id": "3357fb5b-fed2-4da0-a704-f91ca0096cd0",
   "metadata": {},
   "outputs": [
    {
     "data": {
      "text/html": [
       "<div>\n",
       "<style scoped>\n",
       "    .dataframe tbody tr th:only-of-type {\n",
       "        vertical-align: middle;\n",
       "    }\n",
       "\n",
       "    .dataframe tbody tr th {\n",
       "        vertical-align: top;\n",
       "    }\n",
       "\n",
       "    .dataframe thead th {\n",
       "        text-align: right;\n",
       "    }\n",
       "</style>\n",
       "<table border=\"1\" class=\"dataframe\">\n",
       "  <thead>\n",
       "    <tr style=\"text-align: right;\">\n",
       "      <th></th>\n",
       "      <th>product_id</th>\n",
       "      <th>category</th>\n",
       "      <th>price</th>\n",
       "      <th>ratings</th>\n",
       "    </tr>\n",
       "  </thead>\n",
       "  <tbody>\n",
       "    <tr>\n",
       "      <th>0</th>\n",
       "      <td>101</td>\n",
       "      <td>Electronics</td>\n",
       "      <td>500</td>\n",
       "      <td>4.5</td>\n",
       "    </tr>\n",
       "    <tr>\n",
       "      <th>1</th>\n",
       "      <td>102</td>\n",
       "      <td>Clothing</td>\n",
       "      <td>50</td>\n",
       "      <td>3.8</td>\n",
       "    </tr>\n",
       "    <tr>\n",
       "      <th>2</th>\n",
       "      <td>103</td>\n",
       "      <td>Home &amp; Kitchen</td>\n",
       "      <td>200</td>\n",
       "      <td>4.2</td>\n",
       "    </tr>\n",
       "    <tr>\n",
       "      <th>3</th>\n",
       "      <td>104</td>\n",
       "      <td>Beauty</td>\n",
       "      <td>30</td>\n",
       "      <td>4.0</td>\n",
       "    </tr>\n",
       "    <tr>\n",
       "      <th>4</th>\n",
       "      <td>105</td>\n",
       "      <td>Electronics</td>\n",
       "      <td>800</td>\n",
       "      <td>4.8</td>\n",
       "    </tr>\n",
       "    <tr>\n",
       "      <th>5</th>\n",
       "      <td>106</td>\n",
       "      <td>Beauty</td>\n",
       "      <td>50</td>\n",
       "      <td>4.3</td>\n",
       "    </tr>\n",
       "    <tr>\n",
       "      <th>6</th>\n",
       "      <td>107</td>\n",
       "      <td>Clothing</td>\n",
       "      <td>39</td>\n",
       "      <td>4.0</td>\n",
       "    </tr>\n",
       "    <tr>\n",
       "      <th>7</th>\n",
       "      <td>108</td>\n",
       "      <td>Clothing</td>\n",
       "      <td>55</td>\n",
       "      <td>3.9</td>\n",
       "    </tr>\n",
       "  </tbody>\n",
       "</table>\n",
       "</div>"
      ],
      "text/plain": [
       "   product_id        category  price  ratings\n",
       "0         101     Electronics    500      4.5\n",
       "1         102        Clothing     50      3.8\n",
       "2         103  Home & Kitchen    200      4.2\n",
       "3         104          Beauty     30      4.0\n",
       "4         105     Electronics    800      4.8\n",
       "5         106          Beauty     50      4.3\n",
       "6         107        Clothing     39      4.0\n",
       "7         108        Clothing     55      3.9"
      ]
     },
     "execution_count": 3,
     "metadata": {},
     "output_type": "execute_result"
    }
   ],
   "source": [
    "prd = rcsv(\"dataset/product_details.csv\", delimiter=\";\")\n",
    "prd"
   ]
  },
  {
   "cell_type": "code",
   "execution_count": 4,
   "id": "fbea0258-5700-4ac4-9acb-cf1db54c6ddb",
   "metadata": {},
   "outputs": [
    {
     "data": {
      "text/html": [
       "<div>\n",
       "<style scoped>\n",
       "    .dataframe tbody tr th:only-of-type {\n",
       "        vertical-align: middle;\n",
       "    }\n",
       "\n",
       "    .dataframe tbody tr th {\n",
       "        vertical-align: top;\n",
       "    }\n",
       "\n",
       "    .dataframe thead th {\n",
       "        text-align: right;\n",
       "    }\n",
       "</style>\n",
       "<table border=\"1\" class=\"dataframe\">\n",
       "  <thead>\n",
       "    <tr style=\"text-align: right;\">\n",
       "      <th></th>\n",
       "      <th>customer_id</th>\n",
       "      <th>page_views</th>\n",
       "      <th>time_spent</th>\n",
       "    </tr>\n",
       "  </thead>\n",
       "  <tbody>\n",
       "    <tr>\n",
       "      <th>0</th>\n",
       "      <td>1</td>\n",
       "      <td>25</td>\n",
       "      <td>120</td>\n",
       "    </tr>\n",
       "    <tr>\n",
       "      <th>1</th>\n",
       "      <td>2</td>\n",
       "      <td>20</td>\n",
       "      <td>90</td>\n",
       "    </tr>\n",
       "    <tr>\n",
       "      <th>2</th>\n",
       "      <td>3</td>\n",
       "      <td>30</td>\n",
       "      <td>150</td>\n",
       "    </tr>\n",
       "    <tr>\n",
       "      <th>3</th>\n",
       "      <td>4</td>\n",
       "      <td>15</td>\n",
       "      <td>80</td>\n",
       "    </tr>\n",
       "    <tr>\n",
       "      <th>4</th>\n",
       "      <td>5</td>\n",
       "      <td>22</td>\n",
       "      <td>110</td>\n",
       "    </tr>\n",
       "  </tbody>\n",
       "</table>\n",
       "</div>"
      ],
      "text/plain": [
       "   customer_id  page_views  time_spent\n",
       "0            1          25         120\n",
       "1            2          20          90\n",
       "2            3          30         150\n",
       "3            4          15          80\n",
       "4            5          22         110"
      ]
     },
     "execution_count": 4,
     "metadata": {},
     "output_type": "execute_result"
    }
   ],
   "source": [
    "ci = rcsv(\"dataset/customer_interactions.csv\")\n",
    "ci"
   ]
  },
  {
   "cell_type": "markdown",
   "id": "63c410f2-a2d0-43d2-8132-7abd613d5485",
   "metadata": {},
   "source": [
    "### Data Preparation"
   ]
  },
  {
   "cell_type": "code",
   "execution_count": 5,
   "id": "020eeb2e-b476-4000-a5b7-d4a1250a2635",
   "metadata": {},
   "outputs": [
    {
     "data": {
      "text/html": [
       "<div>\n",
       "<style scoped>\n",
       "    .dataframe tbody tr th:only-of-type {\n",
       "        vertical-align: middle;\n",
       "    }\n",
       "\n",
       "    .dataframe tbody tr th {\n",
       "        vertical-align: top;\n",
       "    }\n",
       "\n",
       "    .dataframe thead th {\n",
       "        text-align: right;\n",
       "    }\n",
       "</style>\n",
       "<table border=\"1\" class=\"dataframe\">\n",
       "  <thead>\n",
       "    <tr style=\"text-align: right;\">\n",
       "      <th>product_id</th>\n",
       "      <th>101</th>\n",
       "      <th>102</th>\n",
       "      <th>103</th>\n",
       "      <th>104</th>\n",
       "      <th>105</th>\n",
       "    </tr>\n",
       "    <tr>\n",
       "      <th>customer_id</th>\n",
       "      <th></th>\n",
       "      <th></th>\n",
       "      <th></th>\n",
       "      <th></th>\n",
       "      <th></th>\n",
       "    </tr>\n",
       "  </thead>\n",
       "  <tbody>\n",
       "    <tr>\n",
       "      <th>1</th>\n",
       "      <td>4.5</td>\n",
       "      <td>0.0</td>\n",
       "      <td>0.0</td>\n",
       "      <td>0.0</td>\n",
       "      <td>4.8</td>\n",
       "    </tr>\n",
       "    <tr>\n",
       "      <th>2</th>\n",
       "      <td>0.0</td>\n",
       "      <td>3.8</td>\n",
       "      <td>0.0</td>\n",
       "      <td>4.0</td>\n",
       "      <td>0.0</td>\n",
       "    </tr>\n",
       "    <tr>\n",
       "      <th>3</th>\n",
       "      <td>0.0</td>\n",
       "      <td>3.8</td>\n",
       "      <td>4.2</td>\n",
       "      <td>0.0</td>\n",
       "      <td>0.0</td>\n",
       "    </tr>\n",
       "    <tr>\n",
       "      <th>4</th>\n",
       "      <td>0.0</td>\n",
       "      <td>0.0</td>\n",
       "      <td>0.0</td>\n",
       "      <td>4.0</td>\n",
       "      <td>0.0</td>\n",
       "    </tr>\n",
       "    <tr>\n",
       "      <th>5</th>\n",
       "      <td>4.5</td>\n",
       "      <td>0.0</td>\n",
       "      <td>0.0</td>\n",
       "      <td>0.0</td>\n",
       "      <td>0.0</td>\n",
       "    </tr>\n",
       "  </tbody>\n",
       "</table>\n",
       "</div>"
      ],
      "text/plain": [
       "product_id   101  102  103  104  105\n",
       "customer_id                         \n",
       "1            4.5  0.0  0.0  0.0  4.8\n",
       "2            0.0  3.8  0.0  4.0  0.0\n",
       "3            0.0  3.8  4.2  0.0  0.0\n",
       "4            0.0  0.0  0.0  4.0  0.0\n",
       "5            4.5  0.0  0.0  0.0  0.0"
      ]
     },
     "execution_count": 5,
     "metadata": {},
     "output_type": "execute_result"
    }
   ],
   "source": [
    "# join multiple datasets\n",
    "merged_data = merge(ci, ph, on=\"customer_id\")\n",
    "merged_data = merge(merged_data, prd, on=\"product_id\")\n",
    "\n",
    "# create a distance matrix based on ratings\n",
    "user_item_matrix = pivot_table(\n",
    "    merged_data, index=\"customer_id\", columns=\"product_id\", values=\"ratings\", fill_value=0\n",
    ")\n",
    "\n",
    "# handle missing values (e.g., impute with average rating)\n",
    "user_item_matrix.fillna(user_item_matrix.mean(), inplace=True)\n",
    "prd_ids = user_item_matrix.columns.to_list()\n",
    "cust_ids = user_item_matrix.index.to_list()\n",
    "user_item_matrix"
   ]
  },
  {
   "cell_type": "markdown",
   "id": "4646d0a9-c635-40b5-82a5-dd96560d99a6",
   "metadata": {},
   "source": [
    "### Get Similarities between Products"
   ]
  },
  {
   "cell_type": "code",
   "execution_count": 6,
   "id": "b9f544b9-11a9-4ca2-8301-a25768242e29",
   "metadata": {},
   "outputs": [
    {
     "data": {
      "text/html": [
       "<div>\n",
       "<style scoped>\n",
       "    .dataframe tbody tr th:only-of-type {\n",
       "        vertical-align: middle;\n",
       "    }\n",
       "\n",
       "    .dataframe tbody tr th {\n",
       "        vertical-align: top;\n",
       "    }\n",
       "\n",
       "    .dataframe thead th {\n",
       "        text-align: right;\n",
       "    }\n",
       "</style>\n",
       "<table border=\"1\" class=\"dataframe\">\n",
       "  <thead>\n",
       "    <tr style=\"text-align: right;\">\n",
       "      <th></th>\n",
       "      <th>101</th>\n",
       "      <th>102</th>\n",
       "      <th>103</th>\n",
       "      <th>104</th>\n",
       "      <th>105</th>\n",
       "    </tr>\n",
       "  </thead>\n",
       "  <tbody>\n",
       "    <tr>\n",
       "      <th>101</th>\n",
       "      <td>1.000000</td>\n",
       "      <td>0.000000</td>\n",
       "      <td>0.000000</td>\n",
       "      <td>0.000000</td>\n",
       "      <td>0.683941</td>\n",
       "    </tr>\n",
       "    <tr>\n",
       "      <th>102</th>\n",
       "      <td>0.000000</td>\n",
       "      <td>1.000000</td>\n",
       "      <td>0.462091</td>\n",
       "      <td>0.724999</td>\n",
       "      <td>0.000000</td>\n",
       "    </tr>\n",
       "    <tr>\n",
       "      <th>103</th>\n",
       "      <td>0.000000</td>\n",
       "      <td>0.462091</td>\n",
       "      <td>1.000000</td>\n",
       "      <td>0.000000</td>\n",
       "      <td>0.000000</td>\n",
       "    </tr>\n",
       "    <tr>\n",
       "      <th>104</th>\n",
       "      <td>0.000000</td>\n",
       "      <td>0.724999</td>\n",
       "      <td>0.000000</td>\n",
       "      <td>1.000000</td>\n",
       "      <td>0.000000</td>\n",
       "    </tr>\n",
       "    <tr>\n",
       "      <th>105</th>\n",
       "      <td>0.683941</td>\n",
       "      <td>0.000000</td>\n",
       "      <td>0.000000</td>\n",
       "      <td>0.000000</td>\n",
       "      <td>1.000000</td>\n",
       "    </tr>\n",
       "  </tbody>\n",
       "</table>\n",
       "</div>"
      ],
      "text/plain": [
       "          101       102       103       104       105\n",
       "101  1.000000  0.000000  0.000000  0.000000  0.683941\n",
       "102  0.000000  1.000000  0.462091  0.724999  0.000000\n",
       "103  0.000000  0.462091  1.000000  0.000000  0.000000\n",
       "104  0.000000  0.724999  0.000000  1.000000  0.000000\n",
       "105  0.683941  0.000000  0.000000  0.000000  1.000000"
      ]
     },
     "execution_count": 6,
     "metadata": {},
     "output_type": "execute_result"
    }
   ],
   "source": [
    "item_sim_df = df(cosine_similarity(user_item_matrix, user_item_matrix), index=prd_ids, columns=prd_ids)\n",
    "item_sim_df.head()"
   ]
  },
  {
   "cell_type": "code",
   "execution_count": 7,
   "id": "55dd0a4a-9a10-43dd-81fd-7857b3b835b9",
   "metadata": {},
   "outputs": [],
   "source": [
    "def get_similar_product(prd_id):\n",
    "    if prd_id not in prd_ids:\n",
    "        return None, None\n",
    "    else:\n",
    "        sim_cust = item_sim_df.sort_values(by=prd_id, ascending=False).index[1:]\n",
    "        sim_score = item_sim_df.sort_values(by=prd_id, ascending=False).loc[:, prd_id].tolist()[1:]\n",
    "        return sim_cust, sim_score"
   ]
  },
  {
   "cell_type": "code",
   "execution_count": 8,
   "id": "49fb0078-7493-4752-99fd-31b213f98235",
   "metadata": {},
   "outputs": [
    {
     "name": "stdout",
     "output_type": "stream",
     "text": [
      "Product ID = 102 has similarities with:\n",
      "  - Product ID = 104, with similarity score of 0.725\n",
      "  - Product ID = 103, with similarity score of 0.462\n",
      "  - Product ID = 101, with similarity score of 0.000\n",
      "  - Product ID = 105, with similarity score of 0.000\n"
     ]
    }
   ],
   "source": [
    "selected_prd_id = 102\n",
    "_prd, _score = get_similar_product(selected_prd_id)\n",
    "\n",
    "print(\"Product ID = {} has similarities with:\".format(selected_prd_id))\n",
    "for p, s in zip(_prd, _score):\n",
    "    print(\"  - Product ID = {}, with similarity score of {:.3f}\".format(p, s))"
   ]
  },
  {
   "cell_type": "markdown",
   "id": "96dbad75-cc7d-4c62-9a8d-81c33a0e8f58",
   "metadata": {},
   "source": [
    "### Ratings Prediction"
   ]
  },
  {
   "cell_type": "code",
   "execution_count": 9,
   "id": "85f9f647-120d-4fc5-a50c-9b58b8309e5b",
   "metadata": {},
   "outputs": [],
   "source": [
    "def predict_rating(cust_id, prd_id, max_neighbor=2):\n",
    "    _prd, _score = get_similar_product(prd_id)\n",
    "    prd_arr = np.array([x for x in _prd])\n",
    "    sim_arr = np.array([x for x in _score])\n",
    "    \n",
    "    # select only the product that has already rated by user x\n",
    "    filtering = user_item_matrix[prd_arr].loc[cust_id] != 0\n",
    "    \n",
    "    # calculate the predicted score\n",
    "    sim_scores = sim_arr[filtering][:max_neighbor]\n",
    "    closest_rating = user_item_matrix.loc[cust_id][prd_arr[filtering][:max_neighbor]]\n",
    "    sum_sim_scores = np.sum(sim_arr[filtering][:max_neighbor])\n",
    "\n",
    "    s = np.dot(sim_scores, closest_rating) / sum_sim_scores\n",
    "    return s"
   ]
  },
  {
   "cell_type": "code",
   "execution_count": 10,
   "id": "1ccfacd3-5de4-4a32-a36e-990af19db03f",
   "metadata": {},
   "outputs": [
    {
     "name": "stdout",
     "output_type": "stream",
     "text": [
      "Cust ID = 1, Product ID = 101, Pred. Rating = 4.80\n",
      "Cust ID = 1, Product ID = 102, Pred. Rating = nan\n",
      "Cust ID = 1, Product ID = 103, Pred. Rating = nan\n",
      "Cust ID = 1, Product ID = 104, Pred. Rating = nan\n",
      "Cust ID = 1, Product ID = 105, Pred. Rating = 4.50\n",
      "Cust ID = 2, Product ID = 101, Pred. Rating = nan\n",
      "Cust ID = 2, Product ID = 102, Pred. Rating = 4.00\n",
      "Cust ID = 2, Product ID = 103, Pred. Rating = 3.80\n",
      "Cust ID = 2, Product ID = 104, Pred. Rating = 3.80\n",
      "Cust ID = 2, Product ID = 105, Pred. Rating = nan\n",
      "Cust ID = 3, Product ID = 101, Pred. Rating = nan\n",
      "Cust ID = 3, Product ID = 102, Pred. Rating = 4.20\n",
      "Cust ID = 3, Product ID = 103, Pred. Rating = 3.80\n",
      "Cust ID = 3, Product ID = 104, Pred. Rating = 3.80\n",
      "Cust ID = 3, Product ID = 105, Pred. Rating = nan\n",
      "Cust ID = 4, Product ID = 101, Pred. Rating = nan\n",
      "Cust ID = 4, Product ID = 102, Pred. Rating = 4.00\n",
      "Cust ID = 4, Product ID = 103, Pred. Rating = nan\n",
      "Cust ID = 4, Product ID = 104, Pred. Rating = nan\n",
      "Cust ID = 4, Product ID = 105, Pred. Rating = nan\n",
      "Cust ID = 5, Product ID = 101, Pred. Rating = nan\n",
      "Cust ID = 5, Product ID = 102, Pred. Rating = nan\n",
      "Cust ID = 5, Product ID = 103, Pred. Rating = nan\n",
      "Cust ID = 5, Product ID = 104, Pred. Rating = nan\n",
      "Cust ID = 5, Product ID = 105, Pred. Rating = 4.50\n"
     ]
    }
   ],
   "source": [
    "for c in cust_ids:\n",
    "    for p in prd_ids:\n",
    "        print(\"Cust ID = {}, Product ID = {}, Pred. Rating = {:.2f}\".format(c, p, predict_rating(c, p)))"
   ]
  },
  {
   "cell_type": "markdown",
   "id": "fedcadb9-9fdd-48cd-8f36-5ab0f0ba0281",
   "metadata": {},
   "source": [
    "### Product Recommendation"
   ]
  },
  {
   "cell_type": "code",
   "execution_count": 11,
   "id": "e968366f-e1de-4f62-90d5-43b48f6cf5a0",
   "metadata": {},
   "outputs": [],
   "source": [
    "def get_recommendation(cust_id, n_recommended=2):\n",
    "    pred_ratings = [predict_rating(cust_id, p) for p in prd_ids]\n",
    "\n",
    "    # do not recommend products that customer has already rated\n",
    "    temp = df({'predicted' : pred_ratings, 'prd_id' : prd_ids})\n",
    "    filt = (user_item_matrix.loc[cust_id] == 0.0)\n",
    "    temp = temp.loc[filt.values].sort_values(by='predicted', ascending=False)\n",
    "\n",
    "    print(\"Product recommendations\\nfor Customer ID = {}:\".format(cust_id))\n",
    "    return prd[prd.product_id.isin(temp.prd_id[:n_recommended])]"
   ]
  },
  {
   "cell_type": "code",
   "execution_count": 12,
   "id": "c6724595-6719-4137-ab16-9df5dc0f6e29",
   "metadata": {},
   "outputs": [
    {
     "name": "stdout",
     "output_type": "stream",
     "text": [
      "Product recommendations\n",
      "for Customer ID = 5:\n"
     ]
    },
    {
     "data": {
      "text/html": [
       "<div>\n",
       "<style scoped>\n",
       "    .dataframe tbody tr th:only-of-type {\n",
       "        vertical-align: middle;\n",
       "    }\n",
       "\n",
       "    .dataframe tbody tr th {\n",
       "        vertical-align: top;\n",
       "    }\n",
       "\n",
       "    .dataframe thead th {\n",
       "        text-align: right;\n",
       "    }\n",
       "</style>\n",
       "<table border=\"1\" class=\"dataframe\">\n",
       "  <thead>\n",
       "    <tr style=\"text-align: right;\">\n",
       "      <th></th>\n",
       "      <th>product_id</th>\n",
       "      <th>category</th>\n",
       "      <th>price</th>\n",
       "      <th>ratings</th>\n",
       "    </tr>\n",
       "  </thead>\n",
       "  <tbody>\n",
       "    <tr>\n",
       "      <th>1</th>\n",
       "      <td>102</td>\n",
       "      <td>Clothing</td>\n",
       "      <td>50</td>\n",
       "      <td>3.8</td>\n",
       "    </tr>\n",
       "    <tr>\n",
       "      <th>4</th>\n",
       "      <td>105</td>\n",
       "      <td>Electronics</td>\n",
       "      <td>800</td>\n",
       "      <td>4.8</td>\n",
       "    </tr>\n",
       "  </tbody>\n",
       "</table>\n",
       "</div>"
      ],
      "text/plain": [
       "   product_id     category  price  ratings\n",
       "1         102     Clothing     50      3.8\n",
       "4         105  Electronics    800      4.8"
      ]
     },
     "execution_count": 12,
     "metadata": {},
     "output_type": "execute_result"
    }
   ],
   "source": [
    "get_recommendation(cust_id=5)"
   ]
  },
  {
   "cell_type": "markdown",
   "id": "c501bdfd-bc7c-455a-b207-723d09fe0315",
   "metadata": {},
   "source": [
    "### References\n",
    "- https://www.datacamp.com/tutorial/streamlit\n",
    "- https://www.kaggle.com/code/varian97/item-based-collaborative-filtering\n",
    "- https://github.com/yjeong5126/movie_recommender/blob/master/item_based_collaborative_filtering/item_based_collaborative_filtering.ipynb"
   ]
  }
 ],
 "metadata": {
  "kernelspec": {
   "display_name": "Python 3 (ipykernel)",
   "language": "python",
   "name": "python3"
  },
  "language_info": {
   "codemirror_mode": {
    "name": "ipython",
    "version": 3
   },
   "file_extension": ".py",
   "mimetype": "text/x-python",
   "name": "python",
   "nbconvert_exporter": "python",
   "pygments_lexer": "ipython3",
   "version": "3.10.11"
  }
 },
 "nbformat": 4,
 "nbformat_minor": 5
}
